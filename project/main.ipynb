{
 "cells": [
  {
   "cell_type": "code",
   "execution_count": null,
   "metadata": {},
   "outputs": [],
   "source": [
    "# Preprocessing whole data \n",
    "# TODO :run once again at the end of project\n",
    "#TODO: rename consts\n",
    "# there can be problem ONLY with filtering data\n",
    "import globs\n",
    "import data_preproccesing\n",
    "\n",
    "print(\"Data preprocessing phase. It will take more then a while\")\n",
    "data_preproccesing.filter_whole_data(globs.globals.DATA_PATH, globs.globals.DATA_BASE_FILTER_PATH, globs.globals.ELEMENTS_TO_SAVE_CSV)\n",
    "data_preproccesing.sort_data(globs.globals.DATA_BASE_FILTER_PATH, 'Latitude')\n",
    "data_preproccesing.filter_height('./data/measurementsFilteredSorted_Latitude.csv', globs.globals.DATA_FILTER_HEIGHT_PATH, globs.globals.ELEMENTS_TO_SAVE_CSV)\n"
   ]
  },
  {
   "cell_type": "code",
   "execution_count": null,
   "metadata": {},
   "outputs": [],
   "source": [
    "import globs\n",
    "import data_preproccesing\n",
    "print(\"calculating measurements per month\")\n",
    "data_preproccesing.count_measurements_in_month(globs.globals.DATA_BASE_FILTER_PATH_SORTED,globs.globals.MEASUREMENTS_IN_MONTH)\n"
   ]
  },
  {
   "cell_type": "code",
   "execution_count": null,
   "metadata": {},
   "outputs": [],
   "source": [
    "import globs\n",
    "import data_preproccesing\n",
    "print(\"Searching for flight data\")\n",
    "data_preproccesing.find_flights_data(globs.globals.DATA_FILTER_HEIGHT_PATH_SORTED,globs.globals.DATA_FLIGHTS,h=5000)\n"
   ]
  },
  {
   "cell_type": "code",
   "execution_count": null,
   "metadata": {
    "scrolled": true
   },
   "outputs": [],
   "source": [
    "import globs\n",
    "import data_preproccesing\n",
    "\n",
    "print(\"Making data histograms\")\n",
    "data_preproccesing.data_distribution(globs.globals.DATA_BASE_FILTER_PATH_SORTED,bins=120)\n"
   ]
  },
  {
   "cell_type": "code",
   "execution_count": null,
   "metadata": {},
   "outputs": [],
   "source": [
    "# preproceessing whole data for specified city it requires preproccessed whole files\n",
    "#TODO change resolution to 3000\n",
    "import globs\n",
    "import data_processing\n",
    "print(\"Data processing phase it will be much faster\")\n",
    "res = 3000\n",
    "ver=False\n",
    "data_processing.proceed_region(globs.cities.TOKYO, file_to_save=globs.cities.TOKYO_FILE,resolution=res,verbose=ver)\n",
    "data_processing.proceed_region(globs.cities.ROME, file_to_save=globs.cities.ROME_FILE,resolution=res,verbose=ver)\n",
    "data_processing.proceed_region(globs.cities.KRAKOW, file_to_save=globs.cities.KRAKOW_FILE,resolution=res,verbose=ver)\n",
    "data_processing.proceed_region(globs.cities.CZARNOBYL, file_to_save=globs.cities.CZARNOBYL_FILE,resolution=res,verbose=ver)"
   ]
  },
  {
   "cell_type": "code",
   "execution_count": null,
   "metadata": {},
   "outputs": [],
   "source": [
    "# preproceessing whole data for specified region it requires preproccessed whole files\n",
    "#TODO change resolution to 4000\n",
    "import globs\n",
    "import data_processing\n",
    "print(\"Data processing phase it will be much faster\")\n",
    "res = 30000\n",
    "ver = False\n",
    "data_processing.proceed_region(globs.regions.EUROPE, file_to_save=globs.regions.EUROPE_FILE,resolution=res,verbose=ver)\n",
    "data_processing.proceed_region(globs.regions.USA, file_to_save=globs.regions.USA_FILE,resolution=res,verbose=ver)\n",
    "data_processing.proceed_region(globs.regions.CZECH, file_to_save=globs.regions.CZECH_FILE,resolution=res,verbose=ver)\n",
    "data_processing.proceed_region(globs.regions.JAPAN, file_to_save=globs.regions.JAPAN_FILE,resolution=res,verbose=ver)"
   ]
  },
  {
   "cell_type": "code",
   "execution_count": 1,
   "metadata": {},
   "outputs": [
    {
     "name": "stdout",
     "output_type": "stream",
     "text": [
      "Loading csv file for lat: (37) - (58) lon: (-8) - (32) \n",
      "[([(37.0, -4.6042593049566225), (37.0, -4.494719282535868), (37.089830310543384, -4.6042593049566225), (37.089830310543384, -4.494719282535868)], 1311), ([(37.0, 24.423846636543217), (37.0, 24.53338665896397), (37.089830310543384, 24.423846636543217), (37.089830310543384, 24.53338665896397)], 391), ([(37.0, 22.013966143286627), (37.0, 22.123506165707383), (37.089830310543384, 22.013966143286627), (37.089830310543384, 22.123506165707383)], 359), ([(37.0, 23.328446412335676), (37.0, 23.437986434756432), (37.089830310543384, 23.328446412335676), (37.089830310543384, 23.437986434756432)], 359), ([(37.0, 23.437986434756432), (37.0, 23.547526457177185), (37.089830310543384, 23.437986434756432), (37.089830310543384, 23.547526457177185)], 344), ([(37.0, 23.547526457177185), (37.0, 23.657066479597937), (37.089830310543384, 23.547526457177185), (37.089830310543384, 23.657066479597937)], 291), ([(37.0, 24.862006726226234), (37.0, 24.971546748646986), (37.089830310543384, 24.862006726226234), (37.089830310543384, 24.971546748646986)], 250), ([(37.0, 18.61822544824325), (37.0, 18.727765470664004), (37.089830310543384, 18.61822544824325), (37.089830310543384, 18.727765470664004)], 197), ([(37.0, 21.90442612086587), (37.0, 22.013966143286627), (37.089830310543384, 21.90442612086587), (37.089830310543384, 22.013966143286627)], 187), ([(37.0, 23.21890638991492), (37.0, 23.328446412335676), (37.089830310543384, 23.21890638991492), (37.089830310543384, 23.328446412335676)], 175), ([(37.0, 21.57580605360361), (37.0, 21.685346076024366), (37.089830310543384, 21.57580605360361), (37.089830310543384, 21.685346076024366)], 168), ([(37.0, 22.67120627781115), (37.0, 22.780746300231904), (37.089830310543384, 22.67120627781115), (37.089830310543384, 22.780746300231904)], 133), ([(37.0, 18.727765470664004), (37.0, 18.837305493084756), (37.089830310543384, 18.727765470664004), (37.089830310543384, 18.837305493084756)], 130), ([(37.0, 18.508685425822495), (37.0, 18.61822544824325), (37.089830310543384, 18.508685425822495), (37.089830310543384, 18.61822544824325)], 100), ([(37.0, -3.7279391255905896), (37.0, -3.6183991031698355), (37.089830310543384, -3.7279391255905896), (37.089830310543384, -3.6183991031698355)], 84), ([(37.0, 21.79488609844512), (37.0, 21.90442612086587), (37.089830310543384, 21.79488609844512), (37.089830310543384, 21.90442612086587)], 80), ([(37.0, -4.494719282535868), (37.0, -4.385179260115114), (37.089830310543384, -4.494719282535868), (37.089830310543384, -4.385179260115114)], 75), ([(37.0, 22.342586210548887), (37.0, 22.452126232969643), (37.089830310543384, 22.342586210548887), (37.089830310543384, 22.452126232969643)], 72), ([(37.0, -5.918739574005672), (37.0, -5.809199551584918), (37.089830310543384, -5.918739574005672), (37.089830310543384, -5.809199551584918)], 66), ([(37.0, -4.713799327377377), (37.0, -4.6042593049566225), (37.089830310543384, -4.713799327377377), (37.089830310543384, -4.6042593049566225)], 66), ([(37.0, 22.123506165707383), (37.0, 22.233046188128135), (37.089830310543384, 22.123506165707383), (37.089830310543384, 22.233046188128135)], 44), ([(37.0, -4.385179260115114), (37.0, -4.27563923769436), (37.089830310543384, -4.385179260115114), (37.089830310543384, -4.27563923769436)], 21), ([(37.0, -5.042419394639639), (37.0, -4.932879372218885), (37.089830310543384, -5.042419394639639), (37.089830310543384, -4.932879372218885)], 13), ([(37.0, 7.44514316132633), (37.0, 7.554683183747084), (37.089830310543384, 7.44514316132633), (37.089830310543384, 7.554683183747084)], 11), ([(37.0, 7.226063116484822), (37.0, 7.335603138905576), (37.089830310543384, 7.226063116484822), (37.089830310543384, 7.335603138905576)], 10), ([(37.0, -6.247359641267934), (37.0, -6.13781961884718), (37.089830310543384, -6.247359641267934), (37.089830310543384, -6.13781961884718)], 9), ([(37.0, 7.116523094064068), (37.0, 7.226063116484822), (37.089830310543384, 7.116523094064068), (37.089830310543384, 7.226063116484822)], 9), ([(37.0, 19.604085650030036), (37.0, 19.71362567245079), (37.089830310543384, 19.604085650030036), (37.089830310543384, 19.71362567245079)], 9), ([(37.0, 22.452126232969643), (37.0, 22.5616662553904), (37.089830310543384, 22.452126232969643), (37.089830310543384, 22.5616662553904)], 9), ([(37.0, 26.505107062537547), (37.0, 26.6146470849583), (37.089830310543384, 26.505107062537547), (37.089830310543384, 26.6146470849583)], 8), ([(37.0, 7.664223206167838), (37.0, 7.773763228588592), (37.089830310543384, 7.664223206167838), (37.089830310543384, 7.773763228588592)], 7), ([(37.0, 7.773763228588592), (37.0, 7.883303251009346), (37.089830310543384, 7.773763228588592), (37.089830310543384, 7.883303251009346)], 7), ([(37.0, -0.11311838570570387), (37.0, -0.0035783632849497593), (37.089830310543384, -0.11311838570570387), (37.089830310543384, -0.0035783632849497593)], 6), ([(37.0, 7.554683183747084), (37.0, 7.664223206167838), (37.089830310543384, 7.554683183747084), (37.089830310543384, 7.664223206167838)], 6), ([(37.0, 19.71362567245079), (37.0, 19.823165694871545), (37.089830310543384, 19.71362567245079), (37.089830310543384, 19.823165694871545)], 6), ([(37.0, 22.5616662553904), (37.0, 22.67120627781115), (37.089830310543384, 22.5616662553904), (37.089830310543384, 22.67120627781115)], 5), ([(37.0, 6.897443049222559), (37.0, 7.0069830716433135), (37.089830310543384, 6.897443049222559), (37.089830310543384, 7.0069830716433135)], 4), ([(37.0, 21.466266031182855), (37.0, 21.57580605360361), (37.089830310543384, 21.466266031182855), (37.089830310543384, 21.57580605360361)], 4), ([(37.0, 3.72078239902069), (37.0, 3.830322421441444), (37.089830310543384, 3.72078239902069), (37.089830310543384, 3.830322421441444)], 3), ([(37.0, 3.830322421441444), (37.0, 3.9398624438621983), (37.089830310543384, 3.830322421441444), (37.089830310543384, 3.9398624438621983)], 3), ([(37.0, 7.335603138905576), (37.0, 7.44514316132633), (37.089830310543384, 7.335603138905576), (37.089830310543384, 7.44514316132633)], 3), ([(37.0, 6.787903026801805), (37.0, 6.897443049222559), (37.089830310543384, 6.787903026801805), (37.089830310543384, 6.897443049222559)], 2), ([(37.0, 21.356726008762102), (37.0, 21.466266031182855), (37.089830310543384, 21.356726008762102), (37.089830310543384, 21.466266031182855)], 2), ([(37.0, -8.0), (37.0, -7.890459977579246), (37.089830310543384, -8.0), (37.089830310543384, -7.890459977579246)], 0), ([(37.0, -7.890459977579246), (37.0, -7.780919955158492), (37.089830310543384, -7.890459977579246), (37.089830310543384, -7.780919955158492)], 0), ([(37.0, -7.780919955158492), (37.0, -7.671379932737738), (37.089830310543384, -7.780919955158492), (37.089830310543384, -7.671379932737738)], 0), ([(37.0, -7.671379932737738), (37.0, -7.5618399103169835), (37.089830310543384, -7.671379932737738), (37.089830310543384, -7.5618399103169835)], 0), ([(37.0, -7.5618399103169835), (37.0, -7.452299887896229), (37.089830310543384, -7.5618399103169835), (37.089830310543384, -7.452299887896229)], 0), ([(37.0, -7.452299887896229), (37.0, -7.342759865475475), (37.089830310543384, -7.452299887896229), (37.089830310543384, -7.342759865475475)], 0), ([(37.0, -7.342759865475475), (37.0, -7.233219843054721), (37.089830310543384, -7.342759865475475), (37.089830310543384, -7.233219843054721)], 0)]\n"
     ]
    }
   ],
   "source": [
    "# finding places with a lot of records\n",
    "import globs\n",
    "import data_processing\n",
    "\n",
    "print(data_processing.find_most_interesting_locations2(globs.regions.EUROPE))\n"
   ]
  },
  {
   "cell_type": "code",
   "execution_count": null,
   "metadata": {},
   "outputs": [],
   "source": [
    "# fonction to create maps for proccessed data\n",
    "\n",
    "#data need preparation first\n",
    "# BUG: Size of each next map generated is bigger then previous\n",
    "def make_maps(load_file, border, key, verbose=False,path=None,zoom=9):\n",
    "    import globs\n",
    "    import grid\n",
    "    import data_processing\n",
    "    import gmaps\n",
    "    import matplotlib.pyplot as plt\n",
    "    import matplotlib as mpl\n",
    "    import os\n",
    "    from ipywidgets.embed import embed_minimal_html\n",
    "    squares_basic_data, squares_with_data = data_processing.load_data_from_file(load_file, verbose=verbose)\n",
    "    gmaps.configure(api_key=key)\n",
    "    lat_c, lon_c = grid.calculate_center_point(border)\n",
    "    \n",
    "    #TODO: make function from this\n",
    "    gradient_google_maps = [(0,0,0,0.0),(0, 255,0,0.8), (255, 255,0,0.8),(255, 0,0,0.8)]\n",
    "    tmp = [(rgba[0]/255,rgba[1]/255,rgba[2]/255,rgba[3]) for rgba in gradient_google_maps]\n",
    "    gradient_matplotlib_bar = []\n",
    "    ticks = 200\n",
    "    for i in range(len(tmp) - 1):\n",
    "        if i == 0:\n",
    "            gradient_matplotlib_bar.append(tmp[0])\n",
    "        current = tmp[i]\n",
    "        following = tmp[i+1]\n",
    "        gradient = []\n",
    "        for j in range(4):\n",
    "            gradient.append((following[j]-current[j])/ticks)\n",
    "        for t in range(1,ticks):\n",
    "            rgba_tmp = []\n",
    "            for j in range(4):\n",
    "                rgba_tmp.append(current[j] + t*gradient[j])\n",
    "            gradient_matplotlib_bar.append(tuple(rgba_tmp))\n",
    "    \n",
    "    locations = []\n",
    "    stds = []\n",
    "    means = []\n",
    "    mins = []\n",
    "    maxs = []\n",
    "    for pol, mean, std, min2, max2 in squares_basic_data:\n",
    "        locations.append(grid.calculate_center_point(pol))\n",
    "        stds.append(std)\n",
    "        means.append(mean)\n",
    "        mins.append(min2)\n",
    "        maxs.append(max2)\n",
    "    print(len(locations))\n",
    "\n",
    "    for fig_type, data in [(\"Min\", mins), (\"Std\", stds), (\"Mean\", means), (\"Max\", maxs)]:\n",
    "        data = [d for d in data]\n",
    "        \n",
    "        \n",
    "        fig = gmaps.figure(center=(lat_c, lon_c), zoom_level=zoom)\n",
    "        #TODO: consider adding max_intensity, different for min/max/mean/std\n",
    "        heat_layer = gmaps.heatmap_layer(locations=locations, weights=data, point_radius=35)\n",
    "        heat_layer.gradient = gradient_google_maps\n",
    "        fig.add_layer(heat_layer)\n",
    "        \n",
    "        bar, ax = plt.subplots(figsize=(1, 6))\n",
    "        bar.subplots_adjust(wspace=0.3, hspace=0.0,right = 0.5)\n",
    "\n",
    "        cmap = mpl.colors.ListedColormap(colors=gradient_matplotlib_bar)\n",
    "        norm = mpl.colors.Normalize(vmin=min(data), vmax=max(data))\n",
    "\n",
    "        bar.colorbar(mpl.cm.ScalarMappable(norm=norm, cmap=cmap),cax=ax, orientation='vertical', label='Unit')\n",
    "        bar.add_axes(ax)\n",
    "        \n",
    "        # TODO: add saving chart\n",
    "        if path is not None:\n",
    "            # path_to_maps/City_name <- passed as path argument\n",
    "            # path_to_maps/City_name/Map_type/bar_type.png\n",
    "            # path_to_maps/City_name/Map_type/map_type.png\n",
    "            main_dir = path+fig_type + '/'\n",
    "            if not os.path.exists(path):\n",
    "                os.mkdir(path)\n",
    "            if not os.path.exists(main_dir):\n",
    "                os.mkdir(main_dir)\n",
    "            # now i ned to save map and bar\n",
    "            embed_minimal_html(main_dir+fig_type+'_map.html', views=fig)\n",
    "            plt.savefig(main_dir+fig_type+'_bar.png')           \n",
    "        plt.clf()\n",
    "        plt.cla()\n",
    "key = \"\"\n",
    "import globs"
   ]
  },
  {
   "cell_type": "code",
   "execution_count": null,
   "metadata": {},
   "outputs": [],
   "source": [
    "# Unfortunatelly because of bug in google (or unexpected behaviour) software we need to run it one be one with restarting kernel\n",
    "make_maps(globs.cities.TOKYO_FILE, globs.cities.TOKYO, key, path=globs.cities.TOKYO_MAP_DIR)"
   ]
  },
  {
   "cell_type": "code",
   "execution_count": null,
   "metadata": {},
   "outputs": [],
   "source": [
    "make_maps(globs.cities.ROME_FILE, globs.cities.ROME, key, path=globs.cities.ROME_MAP_DIR)"
   ]
  },
  {
   "cell_type": "code",
   "execution_count": null,
   "metadata": {},
   "outputs": [],
   "source": [
    "make_maps(globs.cities.KRAKOW_FILE, globs.cities.KRAKOW, key, path=globs.cities.KRAKOW_MAP_DIR)"
   ]
  },
  {
   "cell_type": "code",
   "execution_count": null,
   "metadata": {},
   "outputs": [],
   "source": [
    "make_maps(globs.cities.CZARNOBYL_FILE, globs.cities.CZARNOBYL, key, path=globs.cities.CZARNOBYL_MAP_DIR)"
   ]
  },
  {
   "cell_type": "code",
   "execution_count": null,
   "metadata": {},
   "outputs": [],
   "source": [
    "# making maps for all processed data for region\n",
    "make_maps(globs.regions.EUROPE_FILE, globs.regions.EUROPE, key, path=globs.regions.EUROPE_MAP_DIR)"
   ]
  },
  {
   "cell_type": "code",
   "execution_count": null,
   "metadata": {},
   "outputs": [],
   "source": [
    "make_maps(globs.regions.USA_FILE, globs.regions.USA, key, path=globs.regions.USA_MAP_DIR)"
   ]
  },
  {
   "cell_type": "code",
   "execution_count": null,
   "metadata": {},
   "outputs": [],
   "source": [
    "make_maps(globs.regions.CZECH_FILE, globs.regions.CZECH, key, path=globs.regions.CZECH_MAP_DIR)"
   ]
  },
  {
   "cell_type": "code",
   "execution_count": null,
   "metadata": {},
   "outputs": [],
   "source": [
    "make_maps(globs.regions.JAPAN_FILE, globs.regions.JAPAN, key, path=globs.regions.JAPAN_MAP_DIR)"
   ]
  },
  {
   "cell_type": "code",
   "execution_count": null,
   "metadata": {},
   "outputs": [],
   "source": [
    "# calculating corelation height and sea lecel for some places (example)\n",
    "import globs\n",
    "import data_processing\n",
    "\n",
    "data_processing.calculate_correlation_example()"
   ]
  },
  {
   "cell_type": "code",
   "execution_count": null,
   "metadata": {},
   "outputs": [],
   "source": [
    "#calculate covarience matrix for cities \n",
    "import data_processing\n",
    "data_processing.calculate_and_save_covariance_matrix(globs.regions.EUROPE,globs.regions.EUROPE_MAP_DIR)\n",
    "data_processing.calculate_and_save_covariance_matrix(globs.regions.USA,globs.regions.USA_MAP_DIR)\n",
    "data_processing.calculate_and_save_covariance_matrix(globs.regions.CZECH,globs.regions.CZECH_MAP_DIR)\n",
    "data_processing.calculate_and_save_covariance_matrix(globs.regions.JAPAN,path=globs.regions.JAPAN_MAP_DIR)\n"
   ]
  },
  {
   "cell_type": "code",
   "execution_count": null,
   "metadata": {},
   "outputs": [],
   "source": [
    "#calculate covarience matrix for regions \n",
    "data_processing.calculate_and_save_covariance_matrix(globs.cities.ROME,globs.cities.ROME_MAP_DIR)\n",
    "data_processing.calculate_and_save_covariance_matrix(globs.cities.TOKYO,globs.cities.TOKYO_MAP_DIR)\n",
    "data_processing.calculate_and_save_covariance_matrix(globs.cities.KRAKOW,globs.cities.KRAKOW_MAP_DIR)\n",
    "data_processing.calculate_and_save_covariance_matrix(globs.cities.CZARNOBYL,path=globs.cities.CZARNOBYL_MAP_DIR)\n"
   ]
  },
  {
   "cell_type": "code",
   "execution_count": null,
   "metadata": {},
   "outputs": [],
   "source": []
  }
 ],
 "metadata": {
  "kernelspec": {
   "display_name": "Python 3",
   "language": "python",
   "name": "python3"
  },
  "language_info": {
   "codemirror_mode": {
    "name": "ipython",
    "version": 3
   },
   "file_extension": ".py",
   "mimetype": "text/x-python",
   "name": "python",
   "nbconvert_exporter": "python",
   "pygments_lexer": "ipython3",
   "version": "3.7.2"
  }
 },
 "nbformat": 4,
 "nbformat_minor": 4
}
