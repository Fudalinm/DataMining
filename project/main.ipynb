{
 "cells": [
  {
   "cell_type": "code",
   "execution_count": null,
   "metadata": {},
   "outputs": [],
   "source": [
    "# Preprocessing whole data \n",
    "import globs\n",
    "import data_preproccesing\n",
    "\n",
    "print(\"Data pre processing phase. It will take more then a while\")\n",
    "data_preproccesing.filter_whole_data(globs.globals.DATA_PATH, globs.globals.DATA_BASE_FILTER_PATH, globs.globals.ELEMENTS_TO_SAVE_CSV)\n",
    "data_preproccesing.filter_height(globs.globals.DATA_BASE_FILTER_PATH, globs.globals.DATA_FILTER_HEIGHT_PATH, globs.globals.ELEMENTS_TO_SAVE_CSV)\n",
    "data_preproccesing.sort_data(globs.globals.DATA_BASE_FILTER_PATH, globs.globals.DATA_BASE_FILTER_PATH_SORTED)\n",
    "data_preproccesing.sort_data(globs.globals.DATA_FILTER_HEIGHT_PATH, globs.globals.DATA_FILTER_HEIGHT_PATH_SORTED)\n"
   ]
  },
  {
   "cell_type": "code",
   "execution_count": 1,
   "metadata": {},
   "outputs": [
    {
     "name": "stdout",
     "output_type": "stream",
     "text": [
      "Data processing phase it will be much faster\n",
      "Loading csv file for lat: (35.49) - (35.87) lon: (139.45) - (139.95) \n",
      "Analyzing data: total_squares: 141 without_data: 78, with_data: 63, errors: 0\n"
     ]
    }
   ],
   "source": [
    "# preproceessing whole data for specified city it requires preproccessed whole files\n",
    "#TODO change resolution to 3000\n",
    "import globs\n",
    "import data_processing\n",
    "print(\"Data processing phase it will be much faster\")\n",
    "res = 3000\n",
    "ver=False\n",
    "data_processing.proceed_region(globs.cities.TOKYO, file_to_save=globs.cities.TOKYO_FILE,resolution=res,verbose=ver)\n",
    "# data_processing.proceed_region(globs.cities.ROME, file_to_save=globs.cities.ROME_FILE,resolution=res,verbose=ver)\n",
    "# data_processing.proceed_region(globs.cities.KRAKOW, file_to_save=globs.cities.KRAKOW_FILE,resolution=res,verbose=ver)\n",
    "# data_processing.proceed_region(globs.cities.CZARNOBYL, file_to_save=globs.cities.CZARNOBYL_FILE,resolution=res,verbose=ver)"
   ]
  },
  {
   "cell_type": "code",
   "execution_count": null,
   "metadata": {},
   "outputs": [],
   "source": [
    "# preproceessing whole data for specified region it requires preproccessed whole files\n",
    "#TODO change resolution to 4000\n",
    "import globs\n",
    "import data_processing\n",
    "print(\"Data processing phase it will be much faster\")\n",
    "res = 30000\n",
    "ver = False\n",
    "data_processing.proceed_region(globs.regions.EUROPE, file_to_save=globs.regions.EUROPE_FILE,resolution=res,verbose=ver)\n",
    "data_processing.proceed_region(globs.regions.USA, file_to_save=globs.regions.USA_FILE,resolution=res,verbose=ver)\n",
    "data_processing.proceed_region(globs.regions.CZECH, file_to_save=globs.regions.CZECH_FILE,resolution=res,verbose=ver)\n",
    "data_processing.proceed_region(globs.regions.JAPAN, file_to_save=globs.regions.JAPAN_FILE,resolution=res,verbose=ver)"
   ]
  },
  {
   "cell_type": "code",
   "execution_count": 4,
   "metadata": {},
   "outputs": [],
   "source": [
    "# fonction to create maps for proccessed data\n",
    "\n",
    "#data need preparation first\n",
    "# BUG: Size of each next map generated is bigger then previous\n",
    "def make_maps(load_file, border, key, verbose=False,path=None,zoom=9):\n",
    "    import globs\n",
    "    import grid\n",
    "    import data_processing\n",
    "    import gmaps\n",
    "    import matplotlib.pyplot as plt\n",
    "    import matplotlib as mpl\n",
    "    import os\n",
    "    from ipywidgets.embed import embed_minimal_html\n",
    "    squares_basic_data, squares_with_data = data_processing.load_data_from_file(load_file, verbose=verbose)\n",
    "    gmaps.configure(api_key=key)\n",
    "    lat_c, lon_c = grid.calculate_center_point(border)\n",
    "    \n",
    "    #TODO: make function from this\n",
    "    gradient_google_maps = [(0,0,0,0.0),(0, 255,0,0.8), (255, 255,0,0.8),(255, 0,0,0.8)]\n",
    "    tmp = [(rgba[0]/255,rgba[1]/255,rgba[2]/255,rgba[3]) for rgba in gradient_google_maps]\n",
    "    gradient_matplotlib_bar = []\n",
    "    ticks = 200\n",
    "    for i in range(len(tmp) - 1):\n",
    "        if i == 0:\n",
    "            gradient_matplotlib_bar.append(tmp[0])\n",
    "        current = tmp[i]\n",
    "        following = tmp[i+1]\n",
    "        gradient = []\n",
    "        for j in range(4):\n",
    "            gradient.append((following[j]-current[j])/ticks)\n",
    "        for t in range(1,ticks):\n",
    "            rgba_tmp = []\n",
    "            for j in range(4):\n",
    "                rgba_tmp.append(current[j] + t*gradient[j])\n",
    "            gradient_matplotlib_bar.append(tuple(rgba_tmp))\n",
    "    \n",
    "    locations = []\n",
    "    stds = []\n",
    "    means = []\n",
    "    mins = []\n",
    "    maxs = []\n",
    "    for pol, mean, std, min2, max2 in squares_basic_data:\n",
    "        locations.append(grid.calculate_center_point(pol))\n",
    "        stds.append(std)\n",
    "        means.append(mean)\n",
    "        mins.append(min2)\n",
    "        maxs.append(max2)\n",
    "    print(len(locations))\n",
    "\n",
    "    for fig_type, data in [(\"Min\", mins), (\"Std\", stds), (\"Mean\", means), (\"Max\", maxs)]:\n",
    "        data = [d for d in data]\n",
    "        \n",
    "        \n",
    "        fig = gmaps.figure(center=(lat_c, lon_c), zoom_level=zoom)\n",
    "        #TODO: consider adding max_intensity, different for min/max/mean/std\n",
    "        heat_layer = gmaps.heatmap_layer(locations=locations, weights=data, point_radius=35)\n",
    "        heat_layer.gradient = gradient_google_maps\n",
    "        fig.add_layer(heat_layer)\n",
    "        \n",
    "        bar, ax = plt.subplots(figsize=(1, 6))\n",
    "        bar.subplots_adjust(wspace=0.3, hspace=0.0,right = 0.5)\n",
    "\n",
    "        cmap = mpl.colors.ListedColormap(colors=gradient_matplotlib_bar)\n",
    "        norm = mpl.colors.Normalize(vmin=min(data), vmax=max(data))\n",
    "\n",
    "        bar.colorbar(mpl.cm.ScalarMappable(norm=norm, cmap=cmap),cax=ax, orientation='vertical', label='Unit')\n",
    "        bar.add_axes(ax)\n",
    "        \n",
    "        # TODO: add saving chart\n",
    "        if path is not None:\n",
    "            # path_to_maps/City_name <- passed as path argument\n",
    "            # path_to_maps/City_name/Map_type/bar_type.png\n",
    "            # path_to_maps/City_name/Map_type/map_type.png\n",
    "            main_dir = path+fig_type + '/'\n",
    "            if not os.path.exists(path):\n",
    "                os.mkdir(path)\n",
    "            if not os.path.exists(main_dir):\n",
    "                os.mkdir(main_dir)\n",
    "            # now i ned to save map and bar\n",
    "            embed_minimal_html(main_dir+fig_type+'_map.html', views=fig)\n",
    "            plt.savefig(main_dir+fig_type+'_bar.png')           \n",
    "        plt.clf()\n",
    "        plt.cla()\n",
    "key = \"\"\n",
    "import globs"
   ]
  },
  {
   "cell_type": "code",
   "execution_count": 5,
   "metadata": {},
   "outputs": [
    {
     "name": "stdout",
     "output_type": "stream",
     "text": [
      "63\n"
     ]
    },
    {
     "data": {
      "image/png": "[encoded data removed]",
      "text/plain": [
       "<Figure size 72x432 with 1 Axes>"
      ]
     },
     "metadata": {
      "needs_background": "light"
     },
     "output_type": "display_data"
    },
    {
     "data": {
      "image/png": "[encoded data removed]",
      "text/plain": [
       "<Figure size 72x432 with 1 Axes>"
      ]
     },
     "metadata": {
      "needs_background": "light"
     },
     "output_type": "display_data"
    },
    {
     "data": {
      "image/png": "[encoded data removed]",
      "text/plain": [
       "<Figure size 72x432 with 1 Axes>"
      ]
     },
     "metadata": {
      "needs_background": "light"
     },
     "output_type": "display_data"
    },
    {
     "data": {
      "image/png": "[encoded data removed]",
      "text/plain": [
       "<Figure size 72x432 with 1 Axes>"
      ]
     },
     "metadata": {
      "needs_background": "light"
     },
     "output_type": "display_data"
    }
   ],
   "source": [
    "# Unfortunatelly because of bug in google (or unexpected behaviour) software we need to run it one be one with restarting kernel\n",
    "make_maps(globs.cities.TOKYO_FILE, globs.cities.TOKYO, key, path=globs.cities.TOKYO_MAP_DIR)"
   ]
  },
  {
   "cell_type": "code",
   "execution_count": null,
   "metadata": {},
   "outputs": [],
   "source": [
    "make_maps(globs.cities.ROME_FILE, globs.cities.ROME, key, path=globs.cities.ROME_MAP_DIR)"
   ]
  },
  {
   "cell_type": "code",
   "execution_count": null,
   "metadata": {},
   "outputs": [],
   "source": [
    "make_maps(globs.cities.KRAKOW_FILE, globs.cities.KRAKOW, key, path=globs.cities.KRAKOW_MAP_DIR)"
   ]
  },
  {
   "cell_type": "code",
   "execution_count": null,
   "metadata": {},
   "outputs": [],
   "source": [
    "make_maps(globs.cities.CZARNOBYL_FILE, globs.cities.CZARNOBYL, key, path=globs.cities.CZARNOBYL_MAP_DIR)"
   ]
  },
  {
   "cell_type": "code",
   "execution_count": null,
   "metadata": {},
   "outputs": [],
   "source": [
    "# making maps for all processed data for region\n",
    "make_maps(globs.regions.EUROPE_FILE, globs.regions.EUROPE, key, path=globs.regions.EUROPE_MAP_DIR)"
   ]
  },
  {
   "cell_type": "code",
   "execution_count": null,
   "metadata": {},
   "outputs": [],
   "source": [
    "make_maps(globs.regions.USA_FILE, globs.regions.USA, key, path=globs.regions.USA_MAP_DIR)"
   ]
  },
  {
   "cell_type": "code",
   "execution_count": null,
   "metadata": {},
   "outputs": [],
   "source": [
    "make_maps(globs.regions.CZECH_FILE, globs.regions.CZECH, key, path=globs.regions.CZECH_MAP_DIR)"
   ]
  },
  {
   "cell_type": "code",
   "execution_count": null,
   "metadata": {},
   "outputs": [],
   "source": [
    "make_maps(globs.regions.JAPAN_FILE, globs.regions.JAPAN, key, path=globs.regions.JAPAN_MAP_DIR)"
   ]
  },
  {
   "cell_type": "code",
   "execution_count": null,
   "metadata": {},
   "outputs": [],
   "source": [
    "# calculating corelation height and sea lecel for some places (example)\n",
    "import globs\n",
    "import data_processing\n",
    "\n",
    "data_processing.calculate_correlation_example()"
   ]
  },
  {
   "cell_type": "code",
   "execution_count": null,
   "metadata": {},
   "outputs": [],
   "source": [
    "#calculate covarience matrix for cities \n",
    "import data_processing\n",
    "data_processing.calculate_and_save_covariance_matrix(globs.regions.EUROPE,globs.regions.EUROPE_MAP_DIR)\n",
    "data_processing.calculate_and_save_covariance_matrix(globs.regions.USA,globs.regions.USA_MAP_DIR)\n",
    "data_processing.calculate_and_save_covariance_matrix(globs.regions.CZECH,globs.regions.CZECH_MAP_DIR)\n",
    "data_processing.calculate_and_save_covariance_matrix(globs.regions.JAPAN,path=globs.regions.JAPAN_MAP_DIR)\n"
   ]
  },
  {
   "cell_type": "code",
   "execution_count": null,
   "metadata": {},
   "outputs": [],
   "source": [
    "#calculate covarience matrix for regions \n",
    "data_processing.calculate_and_save_covariance_matrix(globs.cities.ROME,globs.cities.ROME_MAP_DIR)\n",
    "data_processing.calculate_and_save_covariance_matrix(globs.cities.TOKYO,globs.cities.TOKYO_MAP_DIR)\n",
    "data_processing.calculate_and_save_covariance_matrix(globs.cities.KRAKOW,globs.cities.KRAKOW_MAP_DIR)\n",
    "data_processing.calculate_and_save_covariance_matrix(globs.cities.CZARNOBYL,path=globs.cities.CZARNOBYL_MAP_DIR)\n"
   ]
  }
 ],
 "metadata": {
  "kernelspec": {
   "display_name": "Python 3",
   "language": "python",
   "name": "python3"
  },
  "language_info": {
   "codemirror_mode": {
    "name": "ipython",
    "version": 3
   },
   "file_extension": ".py",
   "mimetype": "text/x-python",
   "name": "python",
   "nbconvert_exporter": "python",
   "pygments_lexer": "ipython3",
   "version": "3.7.2"
  }
 },
 "nbformat": 4,
 "nbformat_minor": 4
}
