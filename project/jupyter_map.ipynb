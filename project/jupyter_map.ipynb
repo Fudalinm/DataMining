{
 "cells": [
  {
   "cell_type": "code",
   "execution_count": 1,
   "metadata": {},
   "outputs": [],
   "source": [
    "import globs\n",
    "import grid\n",
    "import data_processing\n",
    "import gmaps\n",
    "import matplotlib.pyplot as plt\n",
    "import matplotlib as mpl\n",
    "import os\n",
    "from ipywidgets.embed import embed_minimal_html\n"
   ]
  },
  {
   "cell_type": "code",
   "execution_count": 49,
   "metadata": {},
   "outputs": [],
   "source": [
    "#data need preparation first\n",
    "def make_maps(load_file, border, key, verbose=False,path=None):\n",
    "    squares_basic_data, squares_with_data = data_processing.load_data_from_file(load_file, verbose=verbose)\n",
    "    gmaps.configure(api_key=key)\n",
    "    lat_c, lon_c = grid.calculate_center_point(border)\n",
    "    \n",
    "    #TODO: make function from this\n",
    "    gradient_google_maps = [(0,0,0,0.2),(0, 255,0,0.8), (255, 255,0,0.8),(255, 0,0,0.8)]\n",
    "    tmp = [(rgba[0]/255,rgba[1]/255,rgba[2]/255,rgba[3]) for rgba in gradient_google_maps]\n",
    "    gradient_matplotlib_bar = []\n",
    "    ticks = 200\n",
    "    for i in range(len(tmp) - 1):\n",
    "        if i == 0:\n",
    "            gradient_matplotlib_bar.append(tmp[0])\n",
    "        current = tmp[i]\n",
    "        following = tmp[i+1]\n",
    "        gradient = []\n",
    "        for j in range(4):\n",
    "            gradient.append((following[j]-current[j])/ticks)\n",
    "        for t in range(1,ticks):\n",
    "            rgba_tmp = []\n",
    "            for j in range(4):\n",
    "                rgba_tmp.append(current[j] + t*gradient[j])\n",
    "            gradient_matplotlib_bar.append(tuple(rgba_tmp))\n",
    "    \n",
    "    locations = []\n",
    "    stds = []\n",
    "    means = []\n",
    "    mins = []\n",
    "    maxs = []\n",
    "    for pol, mean, std, min2, max2 in squares_basic_data:\n",
    "        locations.append(grid.calculate_center_point(pol))\n",
    "        stds.append(std)\n",
    "        means.append(mean)\n",
    "        mins.append(min2)\n",
    "        maxs.append(max2)\n",
    "\n",
    "    figs = []\n",
    "    for fig_type, data in [(\"Min\", mins), (\"Max\", maxs), (\"Mean\", means), (\"Std\", stds)]:\n",
    "        fig = gmaps.figure(center=(lat_c, lon_c), zoom_level=9)\n",
    "        #TODO: consider adding max_intensity, different for min/max/mean/std\n",
    "        heat_layer = gmaps.heatmap_layer(locations=locations, weights=data, point_radius=35)\n",
    "        heat_layer.gradient = gradient_google_maps\n",
    "        fig.add_layer(heat_layer)\n",
    "        \n",
    "        bar, ax = plt.subplots(figsize=(1, 6))\n",
    "        bar.subplots_adjust(wspace=0.3, hspace=0.0,right = 0.5)\n",
    "\n",
    "        cmap = mpl.colors.ListedColormap(colors=gradient_matplotlib_bar)\n",
    "        norm = mpl.colors.Normalize(vmin=min(data), vmax=max(data))\n",
    "\n",
    "        bar.colorbar(mpl.cm.ScalarMappable(norm=norm, cmap=cmap),cax=ax, orientation='vertical', label='Unit')\n",
    "        bar.add_axes(ax)\n",
    "        figs.append((fig,bar))\n",
    "        \n",
    "        # TODO: add saving chart\n",
    "        if path is not None:\n",
    "            # path_to_maps/City_name <- passed as path argument\n",
    "            # path_to_maps/City_name/Map_type/bar_type.png\n",
    "            # path_to_maps/City_name/Map_type/map_type.png\n",
    "            main_dir = path+fig_type + '/'\n",
    "            if not os.path.exists(path):\n",
    "                os.mkdir(path)\n",
    "            if not os.path.exists(main_dir):\n",
    "                os.mkdir(main_dir)\n",
    "            # now i ned to save map and bar\n",
    "            embed_minimal_html(main_dir+fig_type+'_map.html', views=[fig])\n",
    "            plt.savefig(main_dir+fig_type+'_bar.png')           \n",
    "        plt.clf()\n",
    "    return figs\n"
   ]
  },
  {
   "cell_type": "code",
   "execution_count": 50,
   "metadata": {},
   "outputs": [
    {
     "data": {
      "text/plain": [
       "<Figure size 72x432 with 0 Axes>"
      ]
     },
     "metadata": {},
     "output_type": "display_data"
    },
    {
     "data": {
      "text/plain": [
       "<Figure size 72x432 with 0 Axes>"
      ]
     },
     "metadata": {},
     "output_type": "display_data"
    },
    {
     "data": {
      "text/plain": [
       "<Figure size 72x432 with 0 Axes>"
      ]
     },
     "metadata": {},
     "output_type": "display_data"
    },
    {
     "data": {
      "text/plain": [
       "<Figure size 72x432 with 0 Axes>"
      ]
     },
     "metadata": {},
     "output_type": "display_data"
    }
   ],
   "source": [
    "file = globs.cities.TOKYO_FILE\n",
    "border = globs.cities.TOKYO\n",
    "p = globs.cities.TOKYO_MAP_DIR\n",
    "\n",
    "key = \"\"\n",
    "\n",
    "figs = make_maps(file, border, key, path=p)\n"
   ]
  }
 ],
 "metadata": {
  "kernelspec": {
   "display_name": "Python 3",
   "language": "python",
   "name": "python3"
  },
  "language_info": {
   "codemirror_mode": {
    "name": "ipython",
    "version": 3
   },
   "file_extension": ".py",
   "mimetype": "text/x-python",
   "name": "python",
   "nbconvert_exporter": "python",
   "pygments_lexer": "ipython3",
   "version": "3.7.2"
  }
 },
 "nbformat": 4,
 "nbformat_minor": 4
}
