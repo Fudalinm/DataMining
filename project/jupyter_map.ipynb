{
 "cells": [
  {
   "cell_type": "code",
   "execution_count": 10,
   "metadata": {},
   "outputs": [],
   "source": [
    "import globs\n",
    "import grid\n",
    "import data_processing\n",
    "import gmaps\n",
    "gmaps.configure(api_key=\"xxxx\")\n",
    "from math import isnan\n"
   ]
  },
  {
   "cell_type": "code",
   "execution_count": 3,
   "metadata": {},
   "outputs": [
    {
     "name": "stdout",
     "output_type": "stream",
     "text": [
      "[(35.51246423282456, 139.4901609474008), (35.51246423282456, 139.57048284220247), (35.51246423282456, 139.65080473700408), (35.51246423282456, 139.73112663180572), (35.51246423282456, 139.8114485266074), (35.51246423282456, 139.891770421409), (35.51246423282456, 139.97209231621068), (35.51278368378974, 139.73112663180572), (35.557380391839025, 139.49307160817287), (35.557380391839025, 139.57921482451866), (35.55738039183902, 139.66535804086448), (35.557380391839025, 139.75150125721026), (35.557380391839025, 139.83764447355605), (35.557380391839025, 139.92378768990181), (35.55764845579114, 139.70842964903733), (35.60229683441031, 139.49653833911282), (35.60229683441031, 139.58961501733853), (35.60229683441031, 139.68269169556424), (35.60229683441031, 139.7757683737899), (35.60229683441031, 139.86884505201556), (35.60229683441031, 139.96192173024124), (35.60260995433708, 139.72923003467704), (35.647213676639566, 139.50072324221964), (35.647213676639566, 139.60216972665893), (35.647213676639566, 139.70361621109822), (35.647213676639566, 139.80506269553752), (35.647213676639566, 139.9065091799768), (35.64746887440156, 139.70361621109822), (35.69213110096418, 139.5058589600536), (35.69213110096418, 139.61757688016084), (35.69213110096418, 139.72929480026812), (35.69213110096418, 139.84101272037537), (35.69213110096418, 139.95273064048263), (35.69244075657572, 139.72929480026812), (35.737049407411206, 139.5122916177144), (35.737049407411206, 139.63687485314327), (35.737049407411206, 139.76145808857208), (35.737049407411206, 139.88604132400093), (35.73704940741119, 140.0106245594298), (35.7374346922189, 139.7614580885721), (35.781969117785266, 139.52055949375944), (35.781969117785266, 139.66167848127847), (35.781969117785266, 139.80279746879742), (35.781969117785266, 139.94391645631643), (35.782278247417814, 139.73223797503795), (35.826891205910286, 139.53154768381214), (35.826891205910286, 139.69464305143646), (35.82689120591028, 139.85773841906078), (35.826891205910286, 140.0208337866851), (35.82730432978482, 139.77619073524863), (35.871817663920694, 139.54682082717457), (35.8718176639207, 139.7404624815238), (35.8718176639207, 139.93410413587307), (35.87212841876797, 139.74046248152382), (35.916753109124706, 139.56942985167012), (35.916753109124706, 139.8082895550105), (35.916753109124706, 140.0471492583508), (35.91722618599911, 139.80828955501048)]\n"
     ]
    }
   ],
   "source": [
    "verbose=False\n",
    "load_file = globs.cities.TOKYO_FILE\n",
    "border = globs.cities.TOKYO\n",
    "squares_basic_data, squares_with_data = data_processing.load_data_from_file(load_file, verbose=verbose)\n",
    "\n",
    "lat_c, lon_c = grid.calculate_center_point(border)\n",
    "\n",
    "locations = []\n",
    "stds = []\n",
    "means = []\n",
    "mins = []\n",
    "maxs = []\n",
    "for pol, mean, std, min, max in squares_basic_data:\n",
    "    locations.append(grid.calculate_center_point(pol))\n",
    "    # polygons.append(Polygon(pol))\n",
    "    stds.append(std)\n",
    "    means.append(mean)\n",
    "    mins.append(min)\n",
    "    maxs.append(max)\n",
    "    \n",
    "# print(stds)\n",
    "# print(means)\n",
    "# print(mins)\n",
    "# print(maxs)\n",
    "print(locations)\n"
   ]
  },
  {
   "cell_type": "code",
   "execution_count": 14,
   "metadata": {},
   "outputs": [
    {
     "name": "stdout",
     "output_type": "stream",
     "text": [
      "[14.0, 10.0, 7.0, 7.0, 6.0, 10.0, 26.0, 0, 7.0, 9.0, 6.0, 3.0, 7.0, 0, 0, 0, 0, 0, 0, 0, 0, 0, 0, 0, 0, 0, 0, 0, 0, 0, 0, 0, 0, 0, 0, 0, 0, 0, 0, 0, 0, 0, 0, 0, 0, 0, 0, 0, 0, 0, 0, 0, 0, 0, 0, 0, 0, 0]\n"
     ]
    },
    {
     "data": {
      "text/plain": [
       "Figure(layout=FigureLayout(height='420px'))"
      ]
     },
     "metadata": {},
     "output_type": "display_data"
    }
   ],
   "source": [
    "fig_type, data = (\"Max\", mins) #[(\"Mean\", means), (\"Std\", stds), (\"Min\", mins), (\"Max\", maxs)]:\n",
    "data = [0 if isnan(x) else x for x in data]\n",
    "print(data)\n",
    "\n",
    "fig = gmaps.figure(center=(lat_c, lon_c), zoom_level=12)\n",
    "heat_layer = gmaps.heatmap_layer(locations=locations, weights=data,point_radius=35)\n",
    "fig.add_layer(heat_layer)\n",
    "fig\n"
   ]
  },
  {
   "cell_type": "code",
   "execution_count": 5,
   "metadata": {},
   "outputs": [
    {
     "data": {
      "text/plain": [
       "Figure(layout=FigureLayout(height='420px'))"
      ]
     },
     "metadata": {},
     "output_type": "display_data"
    }
   ],
   "source": [
    "fig"
   ]
  },
  {
   "cell_type": "code",
   "execution_count": 2,
   "metadata": {},
   "outputs": [
    {
     "data": {
      "text/plain": [
       "Figure(layout=FigureLayout(height='420px'))"
      ]
     },
     "metadata": {},
     "output_type": "display_data"
    }
   ],
   "source": [
    "\n",
    "import gmaps\n",
    "import os\n",
    "import json\n",
    "import gmaps.datasets\n",
    "\n",
    "gmaps.configure(api_key=\"AIz....\")\n",
    "\n",
    "fig=gmaps.figure()\n",
    "\n",
    "fig"
   ]
  }
 ],
 "metadata": {
  "kernelspec": {
   "display_name": "Python 3",
   "language": "python",
   "name": "python3"
  },
  "language_info": {
   "codemirror_mode": {
    "name": "ipython",
    "version": 3
   },
   "file_extension": ".py",
   "mimetype": "text/x-python",
   "name": "python",
   "nbconvert_exporter": "python",
   "pygments_lexer": "ipython3",
   "version": "3.7.2"
  }
 },
 "nbformat": 4,
 "nbformat_minor": 4
}
